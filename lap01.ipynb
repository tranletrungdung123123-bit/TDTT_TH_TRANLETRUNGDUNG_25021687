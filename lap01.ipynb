{
 "cells": [
  {
   "cell_type": "markdown",
   "id": "b42f4f2d",
   "metadata": {},
   "source": [
    "W2A1"
   ]
  },
  {
   "cell_type": "code",
   "execution_count": 7,
   "id": "734a0e08",
   "metadata": {},
   "outputs": [
    {
     "name": "stdout",
     "output_type": "stream",
     "text": [
      "hello World!\n"
     ]
    }
   ],
   "source": [
    "print(\"hello World!\")"
   ]
  },
  {
   "cell_type": "markdown",
   "id": "24eb4f00",
   "metadata": {},
   "source": [
    "W2A2"
   ]
  },
  {
   "cell_type": "code",
   "execution_count": 8,
   "id": "f1a4276c",
   "metadata": {},
   "outputs": [
    {
     "name": "stdout",
     "output_type": "stream",
     "text": [
      "Chào \n"
     ]
    }
   ],
   "source": [
    "n=input('name:')\n",
    "print('Chào',n)"
   ]
  },
  {
   "cell_type": "markdown",
   "id": "b72a7381",
   "metadata": {},
   "source": [
    "W2A3"
   ]
  },
  {
   "cell_type": "code",
   "execution_count": 9,
   "id": "0ac71c55",
   "metadata": {},
   "outputs": [
    {
     "ename": "ValueError",
     "evalue": "invalid literal for int() with base 10: ''",
     "output_type": "error",
     "traceback": [
      "\u001b[31m---------------------------------------------------------------------------\u001b[39m",
      "\u001b[31mValueError\u001b[39m                                Traceback (most recent call last)",
      "\u001b[36mCell\u001b[39m\u001b[36m \u001b[39m\u001b[32mIn[9]\u001b[39m\u001b[32m, line 1\u001b[39m\n\u001b[32m----> \u001b[39m\u001b[32m1\u001b[39m a=\u001b[38;5;28;43mint\u001b[39;49m\u001b[43m(\u001b[49m\u001b[38;5;28;43minput\u001b[39;49m\u001b[43m(\u001b[49m\u001b[43m)\u001b[49m\u001b[43m)\u001b[49m\n\u001b[32m      2\u001b[39m b=\u001b[38;5;28mint\u001b[39m(\u001b[38;5;28minput\u001b[39m())\n\u001b[32m      3\u001b[39m \u001b[38;5;28mprint\u001b[39m(\u001b[33mf\u001b[39m\u001b[33m'\u001b[39m\u001b[38;5;132;01m{\u001b[39;00ma\u001b[38;5;132;01m}\u001b[39;00m\u001b[33m + \u001b[39m\u001b[38;5;132;01m{\u001b[39;00mb\u001b[38;5;132;01m}\u001b[39;00m\u001b[33m = \u001b[39m\u001b[38;5;132;01m{\u001b[39;00ma+b\u001b[38;5;132;01m}\u001b[39;00m\u001b[33m'\u001b[39m )\n",
      "\u001b[31mValueError\u001b[39m: invalid literal for int() with base 10: ''"
     ]
    }
   ],
   "source": [
    "a=int(input())\n",
    "b=int(input())\n",
    "print(f'{a} + {b} = {a+b}' )\n",
    "print( a-b)\n",
    "print( a*b)\n",
    "print( a//b)\n",
    "print( a%b)\n",
    "print(f'{a} / {b} = {(a/b):.2f}')"
   ]
  },
  {
   "cell_type": "markdown",
   "id": "153ade47",
   "metadata": {},
   "source": [
    "W2A4"
   ]
  },
  {
   "cell_type": "code",
   "execution_count": null,
   "id": "bc9dabc1",
   "metadata": {},
   "outputs": [
    {
     "ename": "SyntaxError",
     "evalue": "invalid syntax. Maybe you meant '==' or ':=' instead of '='? (252119615.py, line 1)",
     "output_type": "error",
     "traceback": [
      "  \u001b[36mCell\u001b[39m\u001b[36m \u001b[39m\u001b[32mIn[10]\u001b[39m\u001b[32m, line 1\u001b[39m\n\u001b[31m    \u001b[39m\u001b[31m1,b1,c1,a2,b2,a3=map(int,input().split())\u001b[39m\n                  ^\n\u001b[31mSyntaxError\u001b[39m\u001b[31m:\u001b[39m invalid syntax. Maybe you meant '==' or ':=' instead of '='?\n"
     ]
    }
   ],
   "source": [
    "1,b1,c1,a2,b2,a3=map(int,input().split())\n",
    "tb=((a1+b1+c1)+(a2+b2)*2+a3*3)/10\n",
    "print(f'{tb:.1f}')"
   ]
  },
  {
   "cell_type": "markdown",
   "id": "c3dc0e3c",
   "metadata": {},
   "source": [
    "W2A5"
   ]
  },
  {
   "cell_type": "code",
   "execution_count": null,
   "id": "9df4e8f7",
   "metadata": {},
   "outputs": [
    {
     "ename": "ValueError",
     "evalue": "invalid literal for int() with base 10: ''",
     "output_type": "error",
     "traceback": [
      "\u001b[31m---------------------------------------------------------------------------\u001b[39m",
      "\u001b[31mValueError\u001b[39m                                Traceback (most recent call last)",
      "\u001b[36mCell\u001b[39m\u001b[36m \u001b[39m\u001b[32mIn[9]\u001b[39m\u001b[32m, line 1\u001b[39m\n\u001b[32m----> \u001b[39m\u001b[32m1\u001b[39m a = \u001b[38;5;28;43mint\u001b[39;49m\u001b[43m(\u001b[49m\u001b[38;5;28;43minput\u001b[39;49m\u001b[43m(\u001b[49m\u001b[33;43m\"\u001b[39;49m\u001b[33;43mNhập số a: \u001b[39;49m\u001b[33;43m\"\u001b[39;49m\u001b[43m)\u001b[49m\u001b[43m)\u001b[49m\n\u001b[32m      2\u001b[39m b = \u001b[38;5;28mint\u001b[39m(\u001b[38;5;28minput\u001b[39m(\u001b[33m\"\u001b[39m\u001b[33mNhập số b: \u001b[39m\u001b[33m\"\u001b[39m))\n\u001b[32m      3\u001b[39m \u001b[38;5;28mprint\u001b[39m(\u001b[33m\"\u001b[39m\u001b[33mKết quả a^b =\u001b[39m\u001b[33m\"\u001b[39m, a ** b)\n",
      "\u001b[31mValueError\u001b[39m: invalid literal for int() with base 10: ''"
     ]
    }
   ],
   "source": [
    "a = int(input(\"Nhập số a: \"))\n",
    "b = int(input(\"Nhập số b: \"))\n",
    "print(\"Kết quả a^b =\", a ** b)"
   ]
  },
  {
   "cell_type": "markdown",
   "id": "8a7dfcca",
   "metadata": {},
   "source": [
    "W2A6"
   ]
  },
  {
   "cell_type": "code",
   "execution_count": null,
   "id": "36410abd",
   "metadata": {},
   "outputs": [
    {
     "name": "stdout",
     "output_type": "stream",
     "text": [
      "nhập lại\n"
     ]
    }
   ],
   "source": [
    "a=input()\n",
    "if len(a)==1 and 'a'<=a<='z':\n",
    "    k=ord(a)\n",
    "    print(k)\n",
    "    print(chr(k-32))\n",
    "else:\n",
    "    print(\"nhập lại\")\n"
   ]
  },
  {
   "cell_type": "markdown",
   "id": "1682bf5f",
   "metadata": {},
   "source": [
    "W2A7"
   ]
  },
  {
   "cell_type": "code",
   "execution_count": null,
   "id": "45f54627",
   "metadata": {},
   "outputs": [
    {
     "name": "stdout",
     "output_type": "stream",
     "text": [
      "512 512\n"
     ]
    }
   ],
   "source": [
    "a=((13**2)*3)+5\n",
    "b=13**2*3+5\n",
    "print(a,b)"
   ]
  },
  {
   "cell_type": "markdown",
   "id": "88980dcc",
   "metadata": {},
   "source": [
    "W2A8"
   ]
  },
  {
   "cell_type": "code",
   "execution_count": null,
   "id": "bed13c56",
   "metadata": {},
   "outputs": [
    {
     "ename": "ValueError",
     "evalue": "could not convert string to float: ''",
     "output_type": "error",
     "traceback": [
      "\u001b[31m---------------------------------------------------------------------------\u001b[39m",
      "\u001b[31mValueError\u001b[39m                                Traceback (most recent call last)",
      "\u001b[36mCell\u001b[39m\u001b[36m \u001b[39m\u001b[32mIn[4]\u001b[39m\u001b[32m, line 1\u001b[39m\n\u001b[32m----> \u001b[39m\u001b[32m1\u001b[39m C = \u001b[38;5;28;43mfloat\u001b[39;49m\u001b[43m(\u001b[49m\u001b[38;5;28;43minput\u001b[39;49m\u001b[43m(\u001b[49m\u001b[33;43m\"\u001b[39;49m\u001b[33;43mNhập nhiệt độ C: \u001b[39;49m\u001b[33;43m\"\u001b[39;49m\u001b[43m)\u001b[49m\u001b[43m)\u001b[49m\n\u001b[32m      2\u001b[39m F = (\u001b[32m9\u001b[39m/\u001b[32m5\u001b[39m) * C + \u001b[32m32\u001b[39m\n\u001b[32m      3\u001b[39m \u001b[38;5;28mprint\u001b[39m(\u001b[33m\"\u001b[39m\u001b[33mNhiệt độ F:\u001b[39m\u001b[33m\"\u001b[39m, \u001b[38;5;28mround\u001b[39m(F, \u001b[32m1\u001b[39m))\n",
      "\u001b[31mValueError\u001b[39m: could not convert string to float: ''"
     ]
    }
   ],
   "source": [
    "C = float(input(\"Nhập nhiệt độ C: \"))\n",
    "F = (9/5) * C + 32\n",
    "print(\"Nhiệt độ F:\", round(F, 1))"
   ]
  },
  {
   "cell_type": "markdown",
   "id": "db6973cb",
   "metadata": {},
   "source": [
    "W2A9"
   ]
  },
  {
   "cell_type": "code",
   "execution_count": null,
   "id": "7ac74c4e",
   "metadata": {},
   "outputs": [
    {
     "ename": "ValueError",
     "evalue": "invalid literal for int() with base 10: ''",
     "output_type": "error",
     "traceback": [
      "\u001b[31m---------------------------------------------------------------------------\u001b[39m",
      "\u001b[31mValueError\u001b[39m                                Traceback (most recent call last)",
      "\u001b[36mCell\u001b[39m\u001b[36m \u001b[39m\u001b[32mIn[5]\u001b[39m\u001b[32m, line 1\u001b[39m\n\u001b[32m----> \u001b[39m\u001b[32m1\u001b[39m cost=\u001b[38;5;28;43mint\u001b[39;49m\u001b[43m(\u001b[49m\u001b[38;5;28;43minput\u001b[39;49m\u001b[43m(\u001b[49m\u001b[43m)\u001b[49m\u001b[43m)\u001b[49m\n\u001b[32m      2\u001b[39m \u001b[38;5;28mprint\u001b[39m(\u001b[33mf\u001b[39m\u001b[33m'\u001b[39m\u001b[38;5;132;01m{\u001b[39;00m(cost*\u001b[32m1.4\u001b[39m+\u001b[32m10\u001b[39m)\u001b[38;5;132;01m:\u001b[39;00m\u001b[33m.2f\u001b[39m\u001b[38;5;132;01m}\u001b[39;00m\u001b[33m'\u001b[39m)\n",
      "\u001b[31mValueError\u001b[39m: invalid literal for int() with base 10: ''"
     ]
    }
   ],
   "source": [
    "cost=int(input())\n",
    "print(f'{(cost*1.4+10):.2f}')"
   ]
  },
  {
   "cell_type": "markdown",
   "id": "d681cca8",
   "metadata": {},
   "source": [
    "W2A10"
   ]
  },
  {
   "cell_type": "code",
   "execution_count": null,
   "id": "88569a6b",
   "metadata": {},
   "outputs": [],
   "source": [
    "a,b,c=input().split()\n",
    "print(f'Hi {c},{b} and {a}')"
   ]
  },
  {
   "cell_type": "markdown",
   "id": "52b0f49e",
   "metadata": {},
   "source": [
    "W2A11"
   ]
  },
  {
   "cell_type": "code",
   "execution_count": null,
   "id": "ba4cd59b",
   "metadata": {},
   "outputs": [],
   "source": [
    "h,m=map(int,input().split())\n",
    "s=h*60*60+m*60\n",
    "print(s)"
   ]
  },
  {
   "cell_type": "markdown",
   "id": "48cc3f9b",
   "metadata": {},
   "source": [
    "W2A12"
   ]
  },
  {
   "cell_type": "code",
   "execution_count": null,
   "id": "337404c0",
   "metadata": {},
   "outputs": [],
   "source": [
    "n=int(input())\n",
    "print(n*n*6)"
   ]
  },
  {
   "cell_type": "markdown",
   "id": "8ce25602",
   "metadata": {},
   "source": [
    "W2A13"
   ]
  },
  {
   "cell_type": "code",
   "execution_count": null,
   "id": "cbf30c8c",
   "metadata": {},
   "outputs": [],
   "source": [
    "a,b=map(int,input().split())\n",
    "kq=(a*b)%10\n",
    "print(kq)"
   ]
  },
  {
   "cell_type": "markdown",
   "id": "30370542",
   "metadata": {},
   "source": [
    "W2A14"
   ]
  },
  {
   "cell_type": "code",
   "execution_count": null,
   "id": "55be459f",
   "metadata": {},
   "outputs": [],
   "source": [
    "a,b=map(int,input().split())\n",
    "a,b=b,a\n",
    "print(a,b)"
   ]
  },
  {
   "cell_type": "markdown",
   "id": "61d884a2",
   "metadata": {},
   "source": [
    "W2A15"
   ]
  },
  {
   "cell_type": "code",
   "execution_count": null,
   "id": "2ca35130",
   "metadata": {},
   "outputs": [],
   "source": [
    "n=int(input())\n",
    "print(6*n*(n-1)+1)"
   ]
  },
  {
   "cell_type": "markdown",
   "id": "e5cc00e6",
   "metadata": {},
   "source": [
    "W2A16"
   ]
  },
  {
   "cell_type": "code",
   "execution_count": null,
   "id": "028fc330",
   "metadata": {},
   "outputs": [],
   "source": [
    "print(\"Spring\\nSummer\\nAutumn\\nWinter\")"
   ]
  },
  {
   "cell_type": "markdown",
   "id": "cc2c518d",
   "metadata": {},
   "source": [
    "W2A17"
   ]
  },
  {
   "cell_type": "code",
   "execution_count": null,
   "id": "8d6a69b9",
   "metadata": {},
   "outputs": [],
   "source": [
    "print(\"  *\\n ***\\n*****\")"
   ]
  },
  {
   "cell_type": "markdown",
   "id": "37acc587",
   "metadata": {},
   "source": [
    "W2A18"
   ]
  },
  {
   "cell_type": "code",
   "execution_count": null,
   "id": "124f4f8c",
   "metadata": {},
   "outputs": [
    {
     "name": "stdout",
     "output_type": "stream",
     "text": [
      "### # #    ### ###\n",
      " #  #  #    #   #\n",
      " #  #   #   #   #\n",
      " #  #  #    #   #\n",
      " #  # #     #   #\n"
     ]
    }
   ],
   "source": [
    "print('### # #    ### ###')\n",
    "print(' #  #  #    #   #')\n",
    "print(' #  #   #   #   #')\n",
    "print(' #  #  #    #   #')\n",
    "print(' #  # #     #   #')"
   ]
  },
  {
   "cell_type": "markdown",
   "id": "a0b935ef",
   "metadata": {},
   "source": [
    "W2A19"
   ]
  },
  {
   "cell_type": "code",
   "execution_count": null,
   "id": "ac4976be",
   "metadata": {},
   "outputs": [],
   "source": [
    "print('Monday\\nTuesday\\nWednesday\\nThursday\\nFriday\\nSaturday\\nSunday')"
   ]
  },
  {
   "cell_type": "markdown",
   "id": "f489e473",
   "metadata": {},
   "source": [
    "W2A20"
   ]
  },
  {
   "cell_type": "code",
   "execution_count": null,
   "id": "86bd9b76",
   "metadata": {},
   "outputs": [],
   "source": [
    "print('January\\nFebuary\\nMarch\\nApril\\nMay\\nJune\\nJuly\\nAugust\\nSeptember\\nOctober\\nNovember\\nDecember')"
   ]
  },
  {
   "cell_type": "markdown",
   "id": "d7fcbb64",
   "metadata": {},
   "source": [
    "W2A21"
   ]
  },
  {
   "cell_type": "code",
   "execution_count": null,
   "id": "f4d60e9a",
   "metadata": {},
   "outputs": [],
   "source": [
    "print('Hello,world\\nHello,world\\nHello,world\\nHello,world\\nHello,world\\nHello,world\\nHello,world\\nHello,world\\nHello,world\\nHello,world')"
   ]
  }
 ],
 "metadata": {
  "kernelspec": {
   "display_name": "Python 3",
   "language": "python",
   "name": "python3"
  },
  "language_info": {
   "codemirror_mode": {
    "name": "ipython",
    "version": 3
   },
   "file_extension": ".py",
   "mimetype": "text/x-python",
   "name": "python",
   "nbconvert_exporter": "python",
   "pygments_lexer": "ipython3",
   "version": "3.13.7"
  }
 },
 "nbformat": 4,
 "nbformat_minor": 5
}
