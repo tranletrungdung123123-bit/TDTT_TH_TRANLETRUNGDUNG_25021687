{
 "cells": [
  {
   "cell_type": "markdown",
   "id": "4b894140",
   "metadata": {},
   "source": [
    "BÀI 1"
   ]
  },
  {
   "cell_type": "code",
   "execution_count": null,
   "id": "4db6b7ac",
   "metadata": {},
   "outputs": [],
   "source": [
    "n = int(input())\n",
    "dao = int(str(n)[::-1])\n",
    "print(dao)\n"
   ]
  },
  {
   "cell_type": "markdown",
   "id": "27e20f6e",
   "metadata": {},
   "source": []
  },
  {
   "cell_type": "markdown",
   "id": "3fb98cc2",
   "metadata": {},
   "source": [
    "BÀI 2"
   ]
  },
  {
   "cell_type": "code",
   "execution_count": null,
   "id": "69ff1ece",
   "metadata": {},
   "outputs": [],
   "source": [
    "a, b = map(int, input().split())\n",
    "a = a ^ b\n",
    "b = a ^ b\n",
    "a = a ^ b\n",
    "print(a, b)"
   ]
  },
  {
   "cell_type": "markdown",
   "id": "150d1e13",
   "metadata": {},
   "source": [
    "BÀI 3"
   ]
  },
  {
   "cell_type": "code",
   "execution_count": null,
   "id": "def64472",
   "metadata": {},
   "outputs": [],
   "source": [
    "n = int(input())\n",
    "if n > 0 and (n & (n - 1)) == 0:\n",
    "    print(True)\n",
    "else:\n",
    "    print(False)\n"
   ]
  },
  {
   "cell_type": "markdown",
   "id": "8189c4be",
   "metadata": {},
   "source": [
    "BÀI 4"
   ]
  },
  {
   "cell_type": "code",
   "execution_count": null,
   "id": "f49b1bdd",
   "metadata": {},
   "outputs": [],
   "source": [
    "import math\n",
    "a, b = map(int, input().split())\n",
    "print(math.floor(a / b))\n"
   ]
  },
  {
   "cell_type": "markdown",
   "id": "fb40a589",
   "metadata": {},
   "source": [
    "BÀI 5"
   ]
  },
  {
   "cell_type": "code",
   "execution_count": null,
   "id": "00206131",
   "metadata": {},
   "outputs": [],
   "source": [
    "import math\n",
    "a, b = map(int, input().split())\n",
    "print(math.ceil(a / b))\n"
   ]
  },
  {
   "cell_type": "markdown",
   "id": "46afb45f",
   "metadata": {},
   "source": [
    "BÀI 6"
   ]
  },
  {
   "cell_type": "code",
   "execution_count": null,
   "id": "3a4fdc7a",
   "metadata": {},
   "outputs": [],
   "source": [
    "x = int(input(\"Nhập số nguyên dương x: \"))\n",
    "\n",
    "if x % 2 == 0:\n",
    "    print(\"Even\")\n",
    "else:\n",
    "    print(\"Odd\")\n"
   ]
  },
  {
   "cell_type": "markdown",
   "id": "02f0284e",
   "metadata": {},
   "source": [
    "BÀI 7"
   ]
  },
  {
   "cell_type": "code",
   "execution_count": null,
   "id": "f7545252",
   "metadata": {},
   "outputs": [],
   "source": [
    "a = int(input(\"Nhập số a: \"))\n",
    "b = int(input(\"Nhập số b: \"))\n",
    "\n",
    "if a < 0 and b < 0:\n",
    "    print(\"Yes\")\n",
    "else:\n",
    "    print(\"No\")\n"
   ]
  },
  {
   "cell_type": "markdown",
   "id": "0263b41c",
   "metadata": {},
   "source": [
    "BÀI 8"
   ]
  },
  {
   "cell_type": "code",
   "execution_count": null,
   "id": "f1f1a0a7",
   "metadata": {},
   "outputs": [],
   "source": [
    "a = input(\"Nhập chuỗi a: \")\n",
    "b = input(\"Nhập chuỗi b: \")\n",
    "\n",
    "if len(a) > len(b):\n",
    "    print(\"True\")\n",
    "else:\n",
    "    print(\"False\")\n"
   ]
  },
  {
   "cell_type": "markdown",
   "id": "ba8e7c18",
   "metadata": {},
   "source": [
    "BÀI 9"
   ]
  },
  {
   "cell_type": "code",
   "execution_count": null,
   "id": "e043292e",
   "metadata": {},
   "outputs": [],
   "source": [
    "a = int(input(\"Nhập a: \"))\n",
    "b = int(input(\"Nhập b: \"))\n",
    "c = int(input(\"Nhập c: \"))\n",
    "\n",
    "if a > 0 and b > 0 and c > 0 and (a + b > c) and (a + c > b) and (b + c > a):\n",
    "    print(\"Yes\")\n",
    "else:\n",
    "    print(\"No\")\n"
   ]
  },
  {
   "cell_type": "markdown",
   "id": "69ce20bf",
   "metadata": {},
   "source": [
    "BÀI 10"
   ]
  },
  {
   "cell_type": "code",
   "execution_count": null,
   "id": "1baf93a0",
   "metadata": {},
   "outputs": [],
   "source": [
    "a = int(input(\"Nhập số thứ nhất: \"))\n",
    "b = int(input(\"Nhập số thứ hai: \"))\n",
    "c = int(input(\"Nhập số thứ ba: \"))\n",
    "d = int(input(\"Nhập số thứ tư: \"))\n",
    "\n",
    "print(\"Số lớn nhất là:\", max(a, b, c, d))\n"
   ]
  },
  {
   "cell_type": "markdown",
   "id": "7bdd288b",
   "metadata": {},
   "source": [
    "BÀI 11"
   ]
  },
  {
   "cell_type": "code",
   "execution_count": null,
   "id": "7eacc273",
   "metadata": {},
   "outputs": [],
   "source": [
    "a = int(input(\"Nhập a: \"))\n",
    "b = int(input(\"Nhập b: \"))\n",
    "c = int(input(\"Nhập c: \"))\n",
    "\n",
    "if a + b > c and a + c > b and b + c > a and a > 0 and b > 0 and c > 0:\n",
    "    if a == b == c:\n",
    "        print(\"Tam giác đều\")\n",
    "    elif a == b or b == c or a == c:\n",
    "        print(\"Tam giác cân\")\n",
    "    else:\n",
    "        print(\"Tam giác thường\")\n",
    "else:\n",
    "    print(\"Không phải tam giác\")\n"
   ]
  },
  {
   "cell_type": "markdown",
   "id": "0b9bb050",
   "metadata": {},
   "source": [
    "BÀI 12"
   ]
  },
  {
   "cell_type": "code",
   "execution_count": null,
   "id": "1a6f59c6",
   "metadata": {},
   "outputs": [],
   "source": [
    "year = int(input())\n",
    "\n",
    "if year % 4 == 0:\n",
    "    print(\"Yes\")\n",
    "else:\n",
    "    print(\"No\")\n"
   ]
  },
  {
   "cell_type": "markdown",
   "id": "aa56bdb6",
   "metadata": {},
   "source": [
    "BÀI 13"
   ]
  },
  {
   "cell_type": "code",
   "execution_count": null,
   "id": "d2108464",
   "metadata": {},
   "outputs": [],
   "source": [
    "kwh = int(input(\"Nhập số kWh: \"))\n",
    "\n",
    "if kwh <= 50:\n",
    "    money = kwh * 1500\n",
    "elif kwh <= 100:\n",
    "    money = 50 * 1500 + (kwh - 50) * 2000\n",
    "else:\n",
    "    money = 50 * 1500 + 50 * 2000 + (kwh - 100) * 3000\n",
    "\n",
    "print(\"Tiền điện:\", money)\n"
   ]
  },
  {
   "cell_type": "markdown",
   "id": "0346959f",
   "metadata": {},
   "source": [
    "BÀI 14"
   ]
  },
  {
   "cell_type": "code",
   "execution_count": null,
   "id": "4e8481c0",
   "metadata": {},
   "outputs": [],
   "source": [
    "a = float(input(\"Nhập a: \"))\n",
    "b = float(input(\"Nhập b: \"))\n",
    "\n",
    "if a == 0 and b == 0:\n",
    "    print(\"Vô số nghiệm\")\n",
    "elif a == 0:\n",
    "    print(\"Vô nghiệm\")\n",
    "else:\n",
    "    x = -b / a\n",
    "    print(\"Nghiệm x =\", round(x, 2))\n"
   ]
  },
  {
   "cell_type": "markdown",
   "id": "e0d4c532",
   "metadata": {},
   "source": [
    "BÀI 15"
   ]
  },
  {
   "cell_type": "code",
   "execution_count": null,
   "id": "1feb1149",
   "metadata": {},
   "outputs": [],
   "source": [
    "score = float(input(\"Nhập điểm trung bình: \"))\n",
    "\n",
    "if score >= 8.0:\n",
    "    print(\"Giỏi\")\n",
    "elif score >= 6.5:\n",
    "    print(\"Khá\")\n",
    "elif score >= 5.0:\n",
    "    print(\"Trung bình\")\n",
    "else:\n",
    "    print(\"Yếu\")\n"
   ]
  },
  {
   "cell_type": "markdown",
   "id": "a3cbe932",
   "metadata": {},
   "source": [
    "BÀI 16"
   ]
  },
  {
   "cell_type": "code",
   "execution_count": null,
   "id": "81c66d48",
   "metadata": {},
   "outputs": [],
   "source": [
    "x = float(input(\"Nhập số: \"))\n",
    "\n",
    "if x > int(x):\n",
    "    ceil = int(x) + 1\n",
    "else:\n",
    "    ceil = int(x)\n",
    "\n",
    "if x < int(x):\n",
    "    floor = int(x) - 1\n",
    "else:\n",
    "    floor = int(x)\n",
    "\n",
    "if x - int(x) >= 0.5:\n",
    "    nearest = int(x) + 1\n",
    "else:\n",
    "    nearest = int(x)\n",
    "\n",
    "print(\"Làm tròn lên:\", ceil)\n",
    "print(\"Làm tròn xuống:\", floor)\n",
    "print(\"Làm tròn gần nhất:\", nearest)\n"
   ]
  },
  {
   "cell_type": "markdown",
   "id": "0e7abcc1",
   "metadata": {},
   "source": [
    "BÀI 17"
   ]
  },
  {
   "cell_type": "code",
   "execution_count": null,
   "id": "77d98534",
   "metadata": {},
   "outputs": [],
   "source": [
    "a = int(input())\n",
    "b = int(input())\n",
    "c = int(input())\n",
    "\n",
    "if a <= 0 or b <= 0 or c <= 0 or a + b <= c or a + c <= b or b + c <= a:\n",
    "    print(\"Không phải tam giác\")\n",
    "elif a == b == c:\n",
    "    print(\"Tam giác đều\")\n",
    "elif a == b or a == c or b == c:\n",
    "    print(\"Tam giác cân\")\n",
    "else:\n",
    "    print(\"Tam giác thường\")\n"
   ]
  }
 ],
 "metadata": {
  "kernelspec": {
   "display_name": "Python 3",
   "language": "python",
   "name": "python3"
  },
  "language_info": {
   "name": "python",
   "version": "3.13.7"
  }
 },
 "nbformat": 4,
 "nbformat_minor": 5
}
