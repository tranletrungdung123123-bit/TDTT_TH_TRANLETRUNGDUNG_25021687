{
 "cells": [
  {
   "cell_type": "markdown",
   "id": "40f42ecc",
   "metadata": {},
   "source": [
    "W4A1\n",
    "[SumOfNumBers]\n",
    "Viết chương trình Python sử dụng một trong 2 loại vòng lặp\n",
    "for hoặc while để tính tống các số nguyên từ 1 đến n. (n <=\n",
    "1000)"
   ]
  },
  {
   "cell_type": "code",
   "execution_count": 1,
   "id": "3e5d0dc3",
   "metadata": {},
   "outputs": [
    {
     "name": "stdout",
     "output_type": "stream",
     "text": [
      "630\n"
     ]
    }
   ],
   "source": [
    "n = int(input(\"Nhập n: \"))\n",
    "tong = 0\n",
    "for i in range(1, n + 1):\n",
    "    tong += i\n",
    "print(tong)\n"
   ]
  },
  {
   "cell_type": "markdown",
   "id": "60c7f432",
   "metadata": {},
   "source": [
    "W4A2\n",
    "[PrimeNumber]\n",
    "VIết chương trình nhập vào một số tới khi được một số\n",
    "nguyên dương thì thôi. Kiểm tra số này có phải là số nguyên\n",
    "tố hay không?"
   ]
  },
  {
   "cell_type": "code",
   "execution_count": null,
   "id": "e1968ca0",
   "metadata": {},
   "outputs": [
    {
     "name": "stdout",
     "output_type": "stream",
     "text": [
      "True\n"
     ]
    }
   ],
   "source": [
    "n = int(input(\"Nhập n: \"))\n",
    "if n < 2:\n",
    "    print(False)\n",
    "else:\n",
    "    prime = True\n",
    "    for i in range(2, int(n**0.5) + 1):\n",
    "        if n % i == 0:\n",
    "            prime = False\n",
    "            break\n",
    "    print(prime)"
   ]
  },
  {
   "cell_type": "markdown",
   "id": "92e6a8d6",
   "metadata": {},
   "source": [
    "W4A3\n",
    "[Factorial]\n",
    "Viết chương trình tính giai thừa của một số nguyên n cho\n",
    "trước (n!=1×2×…×n) với 0 < n < 100."
   ]
  },
  {
   "cell_type": "code",
   "execution_count": 3,
   "id": "b504c4f0",
   "metadata": {},
   "outputs": [
    {
     "name": "stdout",
     "output_type": "stream",
     "text": [
      "120\n"
     ]
    }
   ],
   "source": [
    "n = int(input(\"Nhập n: \"))\n",
    "tich = 1\n",
    "for i in range(1, n + 1):\n",
    "    tich *= i\n",
    "print(tich)\n"
   ]
  },
  {
   "cell_type": "markdown",
   "id": "d91bd102",
   "metadata": {},
   "source": [
    "W4A4\n",
    ".[CountingDigits]\n",
    "Viết chương trình nhập vào một số nguyên n và in ra màn\n",
    "hình số chữ số (trừ dấu) của số đó. Không dùng kiểu dữ liệu\n",
    "string."
   ]
  },
  {
   "cell_type": "code",
   "execution_count": 7,
   "id": "0f0c9f78",
   "metadata": {},
   "outputs": [
    {
     "name": "stdout",
     "output_type": "stream",
     "text": [
      "8\n"
     ]
    }
   ],
   "source": [
    "n = int(input(\"Nhập n: \"))\n",
    "if n < 0:\n",
    "    n = -n            \n",
    "if n == 0:\n",
    "    print(1)          \n",
    "else:\n",
    "    dem = 0\n",
    "    while n > 0:\n",
    "        dem += 1\n",
    "        n //= 10\n",
    "    print(dem)\n"
   ]
  },
  {
   "cell_type": "markdown",
   "id": "4644d49e",
   "metadata": {},
   "source": [
    "W4A5 [MeaningOfLife]\n",
    "Khi Douglas Adam viết cuốn sách, The Hitchhiker’s Guide to\n",
    "the Galaxy, ông ta đã thêm vào đó một vài lời nói đùa, và\n",
    "theo năm tháng nó đã trở nên nổi tiếng hơn cả bản thân\n",
    "cuốn tiểu thuyết: “Câu trả lời cho câu hỏi lớn nhất về sự\n",
    "sống, về vũ trụ và tất cả mọi thứ là 42.” Một vài người cuồng\n",
    "tín đã tốn hàng năm trời, với mọi cố gắng nỗ lực để gán\n",
    "ghép ý nghĩa, biểu trưng cho con số 42 và các “sự cố” liên\n",
    "quan đến nó.\n",
    "Với mong muốn hái ra tiền từ sư “ám ảnh” điên rồ này, một\n",
    "cuốn sách mới vừa được xuất bản, 42: Douglas Adams’\n",
    "Amazingly Accurate Answer to Life, the Universe and\n",
    "Everything. Cuốn sách được phát hành trùng với kỉ niệm 10\n",
    "năm ngày mất của Adams.\n",
    "“Câu trả lời rất đơn giản”, như Adams đã nói, “Chỉ là một trò\n",
    "đùa. Tôi cần một con số, một con số be bé, một con số tầm\n",
    "thường, và tôi đã chọn nó. Hai chữ số, bội của 13, một con\n",
    "số hoàn toàn vô nghĩa đối với mấy tay thầy chùa. Tôi ngồi\n",
    "trên bàn làm việc, ngắm khu vườn và nghĩ rằng số 42 sẽ\n",
    "được việc lắm đây. Tôi gõ nó ra. Và hết.”\n",
    "Xuyên suốt lịch sử, các con số được gán cho những ý nghĩa\n",
    "đặc biệt nào đó. Plato gọi việc nghiên cứu các biểu tượng số\n",
    "học” là level cao nhất của tri thức. Trong khi Pythagoras tin\n",
    "rằng các con số đều có linh hồn cũng như sức mạnh kì diệu.\n",
    "Trong khi đó, hàng triệu người hâm hộ Hitchhiker cho đến\n",
    "ngày nay vẫn kiên trì giải mã những thứ họ cho rằng đó là\n",
    "những động cơ bí mật của Adams.\n",
    "Hãy viết một chương trình nhận vào một số nguyên dương n\n",
    "và một dãy gồm n số nguyên. Nếu n số nguyên đó có số 42\n",
    "thì in ra màn hình dòng chữ \"I′ve found the meaning of life!\",\n",
    "ngược lại in ra dòng chữ \"It′s a joke!\"."
   ]
  },
  {
   "cell_type": "code",
   "execution_count": 11,
   "id": "47dfdce2",
   "metadata": {},
   "outputs": [
    {
     "name": "stdout",
     "output_type": "stream",
     "text": [
      "I've found the meaning of life!\n"
     ]
    }
   ],
   "source": [
    "ds = list(map(int, input(\"Nhập dãy số: \").split()))\n",
    "if 42 in ds:\n",
    "    print(\"I've found the meaning of life!\")\n",
    "else:\n",
    "    print(\"It's a joke!\")\n"
   ]
  },
  {
   "cell_type": "markdown",
   "id": "4f50182b",
   "metadata": {},
   "source": [
    "W4A6\n",
    "\"[SumPrimesInRange]\n",
    "Nhập hai số nguyên dương a, b (a ≤ b). Hãy tính tổng các số\n",
    "nguyên tố trong đoạn [a, b]. Mỗi dòng là một bộ test (a b).\""
   ]
  },
  {
   "cell_type": "code",
   "execution_count": 12,
   "id": "5ec94b17",
   "metadata": {},
   "outputs": [
    {
     "name": "stdout",
     "output_type": "stream",
     "text": [
      "12\n"
     ]
    }
   ],
   "source": [
    "a, b = map(int, input(\"Nhập a b: \").split())\n",
    "tong = 0\n",
    "for n in range(a, b + 1):\n",
    "    if n > 1:\n",
    "        dem = 0\n",
    "        for i in range(2, n):\n",
    "            if n % i == 0:\n",
    "                dem += 1\n",
    "        if dem == 0:\n",
    "            tong += n\n",
    "print(tong)\n"
   ]
  },
  {
   "cell_type": "markdown",
   "id": "4f914ad8",
   "metadata": {},
   "source": [
    "W4A7\n",
    "\"[LargestPrimeFactor]\n",
    "Nhập vào số nguyên dương n (n ≥ 2). Hãy in ra ước số\n",
    "nguyên tố lớn nhất của n.\""
   ]
  },
  {
   "cell_type": "code",
   "execution_count": 13,
   "id": "852875ce",
   "metadata": {},
   "outputs": [
    {
     "name": "stdout",
     "output_type": "stream",
     "text": [
      "3\n"
     ]
    }
   ],
   "source": [
    "n = int(input(\"Nhập n: \"))\n",
    "uoc = 2\n",
    "while n > 1:\n",
    "    if n % uoc == 0:\n",
    "        n //= uoc\n",
    "    else:\n",
    "        uoc += 1\n",
    "print(uoc)\n"
   ]
  },
  {
   "cell_type": "markdown",
   "id": "096ab5da",
   "metadata": {},
   "source": [
    "W4A8\n",
    "ReverseAddPalindrome]\n",
    "Nhập số nguyên dương n. Lặp lại phép toán n = n + reverse\n",
    "(n) cho đến khi n là số đối xứng (palindrome). In ra số bước\n",
    "và giá trị palindrome thu được."
   ]
  },
  {
   "cell_type": "code",
   "execution_count": 14,
   "id": "e254c0b1",
   "metadata": {},
   "outputs": [
    {
     "name": "stdout",
     "output_type": "stream",
     "text": [
      "1 99\n"
     ]
    }
   ],
   "source": [
    "n = int(input(\"Nhập n: \"))\n",
    "\n",
    "def reverse(x):\n",
    "    rev = 0\n",
    "    while x > 0:\n",
    "        rev = rev * 10 + x % 10\n",
    "        x //= 10\n",
    "    return rev\n",
    "\n",
    "def is_palindrome(x):\n",
    "    return x == reverse(x)\n",
    "\n",
    "count = 0\n",
    "while not is_palindrome(n):\n",
    "    n = n + reverse(n)\n",
    "    count += 1\n",
    "\n",
    "print(count, n)\n"
   ]
  },
  {
   "cell_type": "markdown",
   "id": "427ec286",
   "metadata": {},
   "source": [
    "W4A9\n",
    "[PerfectSquaresDistinctDigits]\n",
    "Nhập vào số nguyên dương n. In ra tất cả các số chính\n",
    "phương ≤ n có các chữ số đôi một khác nhau (in theo thứ tự\n",
    "tăng dần, cùng hàng, cách nhau bởi một dấu cách). Nếu\n",
    "không có, in ra (no number)."
   ]
  },
  {
   "cell_type": "code",
   "execution_count": null,
   "id": "b1735e6f",
   "metadata": {},
   "outputs": [
    {
     "name": "stdout",
     "output_type": "stream",
     "text": [
      "1 4 9 "
     ]
    }
   ],
   "source": [
    "n = int(input(\"Nhập n: \"))\n",
    "found = False\n",
    "for i in range(1, int(n**0.5) + 1):\n",
    "    sq = i * i\n",
    "    s = str(sq)\n",
    "    if len(s) == len(set(s)):  \n",
    "        print(sq, end=\" \")\n",
    "        found = True\n",
    "if not found:\n",
    "    print(\"no number\")\n"
   ]
  },
  {
   "cell_type": "markdown",
   "id": "19846992",
   "metadata": {},
   "source": [
    "W4A10\n",
    "\"[LongestCollatzUpToN]\n",
    "Nhập vào số nguyên dương n. Tìm số x trong [1, n] có độ dài\n",
    "dãy Collatz lớn nhất và in ra x cùng độ dài dãy tương ứng (x\n",
    "L). Nếu có nhiều số cùng độ dài, chọn số nhỏ nhất.\""
   ]
  },
  {
   "cell_type": "code",
   "execution_count": null,
   "id": "3b51178d",
   "metadata": {},
   "outputs": [],
   "source": [
    "n = int(input(\"Nhập n: \"))\n",
    "max_len = 0\n",
    "x_max = 1\n",
    "for x in range(1, n + 1):\n",
    "    count = 1\n",
    "    t = x\n",
    "    while t != 1:\n",
    "        if t % 2 == 0:\n",
    "            t = t // 2\n",
    "        else:\n",
    "            t = 3 * t + 1\n",
    "        count += 1\n",
    "    if count > max_len or (count == max_len and x < x_max):\n",
    "        max_len = count\n",
    "        x_max = x\n",
    "print(x_max, max_len)\n"
   ]
  },
  {
   "cell_type": "markdown",
   "id": "c43c0748",
   "metadata": {},
   "source": [
    "W4A11\n",
    "[EvenDivisors]\n",
    "Viết chương trình đếm số lượng ước số chẵn của số nguyên\n",
    "dương n với n < 10^6."
   ]
  },
  {
   "cell_type": "code",
   "execution_count": 16,
   "id": "d04bc454",
   "metadata": {},
   "outputs": [
    {
     "name": "stdout",
     "output_type": "stream",
     "text": [
      "2\n"
     ]
    }
   ],
   "source": [
    "n = int(input(\"Nhập n: \"))\n",
    "count = 0\n",
    "for i in range(1, n + 1):\n",
    "    if n % i == 0 and i % 2 == 0:\n",
    "        count += 1\n",
    "print(count)\n"
   ]
  },
  {
   "cell_type": "markdown",
   "id": "b0b2a4f4",
   "metadata": {},
   "source": [
    "W4A12\n",
    "[Interest]\n",
    "Một người có tài khoản tiết kiệm ở ngân hàng và gửi vào X\n",
    "đồng với lãi suất là 0.7% mỗi tháng. Viết chương trình tính\n",
    "số tiền sau N tháng người ấy rút được (cả gốc và lãi, bỏ qua\n",
    "phần lẻ thập phân)."
   ]
  },
  {
   "cell_type": "code",
   "execution_count": null,
   "id": "cea5044f",
   "metadata": {},
   "outputs": [],
   "source": [
    "x, n = map(float, input(\"Nhập tiền và số tháng: \").split())\n",
    "for i in range(int(n)):\n",
    "    x += x * 0.007\n",
    "print(int(x))\n"
   ]
  },
  {
   "cell_type": "markdown",
   "id": "1ced65f6",
   "metadata": {},
   "source": [
    "W4A13\n",
    "[ClosePairNumber]\n",
    "Hai số nguyên dương tạo thành một cặp số thân thiết khi\n",
    "chúng tuân theo quy luật: Số này bằng tổng tất cả các ước\n",
    "của số kia (trừ chính nó) và ngược lại.\n",
    "Ví dụ 220 và 284 là một cặp số thân thiết\n",
    "220 ngoài chính nó ra, nó còn có 11 ước số khác là: 1, 2, 4,\n",
    "5, 10, 11, 20, 44, 55, 110. Tổng của 11 ước này cho chúng\n",
    "ta 284\n",
    "284 ngoài bản thân nó, còn có 5 ước số khác là: 1, 2, 4, 71,\n",
    "142. Tổng của chúng vừa đúng bằng 220\n",
    "Nhập hai số từ bàn phím và kiểm tra xem chúng có phải là\n",
    "cặp số thân thiết không. Nếu có, in ra màn hình \"true\",\n",
    "ngược lại, in ra \"false\""
   ]
  },
  {
   "cell_type": "code",
   "execution_count": null,
   "id": "b9039ac2",
   "metadata": {},
   "outputs": [],
   "source": [
    "a, b = map(int, input(\"Nhập 2 số: \").split())\n",
    "\n",
    "def tong_uoc(x):\n",
    "    tong = 0\n",
    "    for i in range(1, x):\n",
    "        if x % i == 0:\n",
    "            tong += i\n",
    "    return tong\n",
    "\n",
    "if tong_uoc(a) == b and tong_uoc(b) == a:\n",
    "    print(True)\n",
    "else:\n",
    "    print(False)\n"
   ]
  },
  {
   "cell_type": "markdown",
   "id": "481c0e7d",
   "metadata": {},
   "source": [
    "W4A14\n",
    "[GCD]\n",
    "Cho hai số m và n là hai số nguyên dương nhập từ bàn\n",
    "phím. Viết chương trình tìm ước chung lớn nhất của hai số\n",
    "m và "
   ]
  },
  {
   "cell_type": "code",
   "execution_count": null,
   "id": "41e67db2",
   "metadata": {},
   "outputs": [],
   "source": [
    "m = int(input(\"Nhập m: \"))\n",
    "n = int(input(\"Nhập n: \"))\n",
    "ucln = 1\n",
    "for i in range(1, min(m, n) + 1):\n",
    "    if m % i == 0 and n % i == 0:\n",
    "        ucln = i\n",
    "print(\"Ước chung lớn nhất là:\", ucln)\n"
   ]
  },
  {
   "cell_type": "markdown",
   "id": "107f2655",
   "metadata": {},
   "source": [
    "W4A15\n",
    "[ChickenAndDog]\n",
    "\"Vừa gà vừa chó,\n",
    "Bó lại cho tròn,\n",
    "Ba mươi sáu con,\n",
    "Một trăm chân chẵn\"\n",
    "Từ bài toán dân gian trên, mở rộng thành chương trình nhận\n",
    "đầu vào là tổng số con và tổng số chân của gà và chó. Nếu\n",
    "tìm được số phù hợp, in ra số lượng gà và số lượng chó.\n",
    "Ngược lại, in ra \"invalid\"."
   ]
  },
  {
   "cell_type": "code",
   "execution_count": null,
   "id": "d838d00d",
   "metadata": {},
   "outputs": [],
   "source": [
    "tong_con = int(input(\"Nhập tổng số con: \"))\n",
    "tong_chan = int(input(\"Nhập tổng số chân: \"))\n",
    "found = False\n",
    "for ga in range(tong_con + 1):\n",
    "    cho = tong_con - ga\n",
    "    if 2 * ga + 4 * cho == tong_chan:\n",
    "        print(\"Gà:\", ga)\n",
    "        print(\"Chó:\", cho)\n",
    "        found = True\n",
    "        break\n",
    "if not found:\n",
    "    print(\"invalid\")\n"
   ]
  },
  {
   "cell_type": "markdown",
   "id": "1d471924",
   "metadata": {},
   "source": [
    "W4A16 In các số chẵn chia hết cho 3 bé hơn 100"
   ]
  },
  {
   "cell_type": "code",
   "execution_count": null,
   "id": "47861f4e",
   "metadata": {},
   "outputs": [],
   "source": [
    "for i in range(0, 100):\n",
    "    if i % 2 == 0 and i % 3 == 0:\n",
    "        print(i)\n"
   ]
  },
  {
   "cell_type": "markdown",
   "id": "0995fd60",
   "metadata": {},
   "source": [
    "W4A17 Nhập vào số nguyên dương a, in ra bảng cửu chương của a"
   ]
  },
  {
   "cell_type": "code",
   "execution_count": null,
   "id": "4437c9f2",
   "metadata": {},
   "outputs": [],
   "source": [
    "a = int(input(\"Nhập a: \"))\n",
    "for i in range(1, 11):\n",
    "    print(a, \"x\", i, \"=\", a * i)\n"
   ]
  },
  {
   "cell_type": "markdown",
   "id": "56f5ca6c",
   "metadata": {},
   "source": [
    "W4A18\n",
    "Nhập vào số nguyên dương a và b, in toàn bộ ước chung\n",
    "của a và b"
   ]
  },
  {
   "cell_type": "code",
   "execution_count": null,
   "id": "44d41c30",
   "metadata": {},
   "outputs": [],
   "source": [
    "a = int(input(\"Nhập a: \"))\n",
    "b = int(input(\"Nhập b: \"))\n",
    "for i in range(1, min(a, b) + 1):\n",
    "    if a % i == 0 and b % i == 0:\n",
    "        print(i)\n"
   ]
  },
  {
   "cell_type": "markdown",
   "id": "c03f462f",
   "metadata": {},
   "source": [
    "W4A19\n",
    "[EvenNumBers]\n",
    "Viết chương trình Python sử dụng một trong 2 loại vòng lặp\n",
    "for hoặc while để in ra các số dương chẵn nhỏ hơn hoặc\n",
    "bằng n (n <= 1000"
   ]
  },
  {
   "cell_type": "code",
   "execution_count": null,
   "id": "9ec3c525",
   "metadata": {},
   "outputs": [],
   "source": [
    "n = int(input(\"Nhập n: \"))\n",
    "for i in range(2, n + 1, 2):\n",
    "    print(i, end=\" \")\n"
   ]
  },
  {
   "cell_type": "markdown",
   "id": "4097f8ed",
   "metadata": {},
   "source": [
    "W4A20\n",
    "Nhập vào một số nguyên dương n, kiểm tra xem n có phải là\n",
    "số dạng 2^k hay không"
   ]
  },
  {
   "cell_type": "code",
   "execution_count": null,
   "id": "a3874baa",
   "metadata": {},
   "outputs": [],
   "source": [
    "n = int(input(\"Nhập n: \"))\n",
    "x = 1\n",
    "while x < n:\n",
    "    x = x * 2\n",
    "if x == n:\n",
    "    print(\"n là số dạng 2^k\")\n",
    "else:\n",
    "    print(\"n không phải dạng 2^k\")\n"
   ]
  },
  {
   "cell_type": "markdown",
   "id": "1860a875",
   "metadata": {},
   "source": [
    "W4A21 Nhập vào số nguyên dương n, tính tổng các chữ số của n"
   ]
  },
  {
   "cell_type": "code",
   "execution_count": null,
   "id": "9ded9dc6",
   "metadata": {},
   "outputs": [],
   "source": [
    "n = int(input(\"Nhập n: \"))\n",
    "tong = 0\n",
    "while n > 0:\n",
    "    tong += n % 10\n",
    "    n //= 10\n",
    "print(tong)\n"
   ]
  },
  {
   "cell_type": "markdown",
   "id": "0eb5ae82",
   "metadata": {},
   "source": [
    "W4A22\n",
    "Nhập vào số nguyên dương n, đếm xem n có bao nhiêu chữ\n",
    "số chẵn, bao nhiêu chữ số lẻ"
   ]
  },
  {
   "cell_type": "code",
   "execution_count": null,
   "id": "cd3e5b88",
   "metadata": {},
   "outputs": [],
   "source": [
    "n = int(input(\"Nhập n: \"))\n",
    "chan = 0\n",
    "le = 0\n",
    "while n > 0:\n",
    "    cs = n % 10\n",
    "    if cs % 2 == 0:\n",
    "        chan += 1\n",
    "    else:\n",
    "        le += 1\n",
    "    n //= 10\n",
    "print(\"Số chữ số chẵn:\", chan)\n",
    "print(\"Số chữ số lẻ:\", le)\n"
   ]
  },
  {
   "cell_type": "markdown",
   "id": "8da4359d",
   "metadata": {},
   "source": [
    "W4A23\n",
    "Nhập n\n",
    "Cho S(k) = 1 + 2 + 3 + … + k\n",
    "Tìm k sao cho S(k) lớn nhất nhưng nhỏ hơn n"
   ]
  },
  {
   "cell_type": "code",
   "execution_count": null,
   "id": "6b6108ed",
   "metadata": {},
   "outputs": [],
   "source": [
    "n = int(input(\"Nhập n: \"))\n",
    "S = 0\n",
    "k = 0\n",
    "while S + (k + 1) < n:\n",
    "    k += 1\n",
    "    S += k\n",
    "print(k)\n"
   ]
  },
  {
   "cell_type": "markdown",
   "id": "fffd7ddc",
   "metadata": {},
   "source": [
    "W4A24\n",
    "Nhập vào A, tìm n nhỏ nhất sao cho\n",
    "1 + 1/2 + 1/3 + 1/4 + ... + 1/n > A"
   ]
  },
  {
   "cell_type": "code",
   "execution_count": null,
   "id": "e259b785",
   "metadata": {},
   "outputs": [],
   "source": [
    "A = float(input(\"Nhập A: \"))\n",
    "S = 0\n",
    "n = 0\n",
    "while S <= A:\n",
    "    n += 1\n",
    "    S += 1 / n\n",
    "print(n)\n"
   ]
  },
  {
   "cell_type": "markdown",
   "id": "387b7093",
   "metadata": {},
   "source": [
    "W4A25\n",
    "Nhập vào một dãy số nguyên, ngưng nhập khi người dùng\n",
    "nhập -1.\n",
    "Sau khi nhập xong, in số lớn nhất, số nhỏ nhất trong những\n",
    "số vừa nhập"
   ]
  },
  {
   "cell_type": "code",
   "execution_count": null,
   "id": "7bf06cde",
   "metadata": {},
   "outputs": [],
   "source": [
    "so = int(input(\"Nhập số: \"))\n",
    "lon = so\n",
    "nho = so\n",
    "while so != -1:\n",
    "    if so > lon:\n",
    "        lon = so\n",
    "    if so < nho:\n",
    "        nho = so\n",
    "    so = int(input(\"Nhập số: \"))\n",
    "print(\"Số lớn nhất:\", lon)\n",
    "print(\"Số nhỏ nhất:\", nho)\n"
   ]
  },
  {
   "cell_type": "markdown",
   "id": "b1632004",
   "metadata": {},
   "source": [
    "W4A26\n",
    "[Fibonaci1]\n",
    "Dãy số fibonacci là dãy số được định nghĩa như sau: 1, 1, 2,\n",
    "3, 5, 8, 13,... với số kế tiếp sẽ bằng tổng hai số trước đó\n",
    "Nhập vào số nguyên dương A, hãy tìm số trong dãy số\n",
    "fibonacci lớn nhất nhưng không vượt quá A"
   ]
  },
  {
   "cell_type": "code",
   "execution_count": null,
   "id": "2f964ac6",
   "metadata": {},
   "outputs": [],
   "source": [
    "A = int(input(\"Nhập A: \"))\n",
    "f1 = 1\n",
    "f2 = 1\n",
    "while f2 <= A:\n",
    "    f1, f2 = f2, f1 + f2\n",
    "print(f1)\n"
   ]
  },
  {
   "cell_type": "markdown",
   "id": "c4bc35d1",
   "metadata": {},
   "source": [
    "W4A27\n",
    "Nhập vào một chuỗi, hãy đếm xem trong chuỗi có bao nhiêu\n",
    "từ (quy định là chuỗi không có ký tự đặc biệt, không số,\n",
    "không có dấu câu, chỉ có ký tự chữ và khoảng trắng)\n",
    "Dùng cách: for trên index; KHÔNG dùng hàm split(), len()"
   ]
  },
  {
   "cell_type": "code",
   "execution_count": null,
   "id": "9d1d7963",
   "metadata": {},
   "outputs": [],
   "source": [
    "s = input(\"Nhập chuỗi: \")\n",
    "dem = 0\n",
    "in_word = False\n",
    "for i in range(len(s)):\n",
    "    if s[i] != \" \" and not in_word:\n",
    "        dem += 1\n",
    "        in_word = True\n",
    "    elif s[i] == \" \":\n",
    "        in_word = False\n",
    "print(dem)\n"
   ]
  },
  {
   "cell_type": "markdown",
   "id": "d6d27b40",
   "metadata": {},
   "source": [
    "W4A28\n",
    "Nhập vào một chuỗi, hãy in từ đầu tiên trong chuỗi\n",
    "Dùng cách: for trên index; KHÔNG dùng hàm split()"
   ]
  },
  {
   "cell_type": "code",
   "execution_count": null,
   "id": "9ca3a9b4",
   "metadata": {},
   "outputs": [],
   "source": [
    "s = input(\"Nhập chuỗi: \")\n",
    "tu_dau = \"\"\n",
    "for i in range(len(s)):\n",
    "    if s[i] != \" \":\n",
    "        tu_dau += s[i]\n",
    "    else:\n",
    "        break\n",
    "print(tu_dau)\n"
   ]
  },
  {
   "cell_type": "markdown",
   "id": "89c4dfc8",
   "metadata": {},
   "source": [
    "W4A29\n",
    "Nhập vào một chuỗi có dạng 3 số nguyên, mỗi số nguyên\n",
    "cách nhau một dấu phẩy, hãy tính tổng 3 số nguyên đó"
   ]
  },
  {
   "cell_type": "code",
   "execution_count": null,
   "id": "0011a118",
   "metadata": {},
   "outputs": [],
   "source": [
    "s = input(\"Nhập: \")\n",
    "so = \"\"\n",
    "tong = 0\n",
    "for i in range(len(s)):\n",
    "    if s[i] != \",\" and s[i] != \" \":\n",
    "        so += s[i]\n",
    "    else:\n",
    "        tong += int(so)\n",
    "        so = \"\"\n",
    "tong += int(so)\n",
    "print(tong)\n"
   ]
  },
  {
   "cell_type": "markdown",
   "id": "eb81f10c",
   "metadata": {},
   "source": [
    "W4A30\n",
    "Nhập vào một chuỗi, hãy đếm xem trong chuỗi có bao nhiêu\n",
    "ký tự in hoa, bao nhiêu ký tự in thường, bao nhiêu ký tự số"
   ]
  },
  {
   "cell_type": "code",
   "execution_count": null,
   "id": "9e30217a",
   "metadata": {},
   "outputs": [],
   "source": [
    "s = input(\"Nhập chuỗi: \")\n",
    "hoa = 0\n",
    "thuong = 0\n",
    "so = 0\n",
    "for i in range(len(s)):\n",
    "    if \"A\" <= s[i] <= \"Z\":\n",
    "        hoa += 1\n",
    "    elif \"a\" <= s[i] <= \"z\":\n",
    "        thuong += 1\n",
    "    elif \"0\" <= s[i] <= \"9\":\n",
    "        so += 1\n",
    "print(\"In hoa:\", hoa)\n",
    "print(\"In thường:\", thuong)\n",
    "print(\"Số:\", so)\n"
   ]
  },
  {
   "cell_type": "markdown",
   "id": "15804546",
   "metadata": {},
   "source": [
    "W4A31\n",
    "Nhập vào một chuỗi, hãy tách toàn bộ ký tự số trong chuỗi ra\n",
    "rồi tính tổng của chúng"
   ]
  },
  {
   "cell_type": "code",
   "execution_count": null,
   "id": "e8e2a084",
   "metadata": {},
   "outputs": [],
   "source": [
    "s = input(\"Nhập chuỗi: \")\n",
    "tong = 0\n",
    "for i in range(len(s)):\n",
    "    if \"0\" <= s[i] <= \"9\":\n",
    "        tong += int(s[i])\n",
    "print(tong)\n"
   ]
  },
  {
   "cell_type": "markdown",
   "id": "14f305dc",
   "metadata": {},
   "source": [
    "W4A32\n",
    "Nhập vào một chuỗi, kiểm tra chuỗi đó có phải là một chuỗi\n",
    "mật khẩu mạnh hay không (một chuỗi mật khẩu mạnh cần có\n",
    "ít nhất 1 ký tự đặc biệt, 1 ký tự in hoa, 1 con số, 1 chữ\n",
    "thường và độ dài phải lớn hơn 6)"
   ]
  },
  {
   "cell_type": "code",
   "execution_count": null,
   "id": "349bac69",
   "metadata": {},
   "outputs": [],
   "source": [
    "s = input(\"Nhập mật khẩu: \")\n",
    "co_hoa = False\n",
    "co_thuong = False\n",
    "co_so = False\n",
    "co_dac_biet = False\n",
    "for i in range(len(s)):\n",
    "    if \"A\" <= s[i] <= \"Z\":\n",
    "        co_hoa = True\n",
    "    elif \"a\" <= s[i] <= \"z\":\n",
    "        co_thuong = True\n",
    "    elif \"0\" <= s[i] <= \"9\":\n",
    "        co_so = True\n",
    "    else:\n",
    "        co_dac_biet = True\n",
    "if co_hoa and co_thuong and co_so and co_dac_biet and len(s) > 6:\n",
    "    print(\"Mật khẩu mạnh\")\n",
    "else:\n",
    "    print(\"Mật khẩu yếu\")\n"
   ]
  },
  {
   "cell_type": "markdown",
   "id": "4db34af6",
   "metadata": {},
   "source": [
    "W4A33\n",
    "Nhập vào một số nguyên, hãy chuyển số sang chuỗi, rồi đặt\n",
    "dấu chấm phân tách mỗi 3 chữ số (phân cách phần ngàn) rồi\n",
    "in ra màn hình"
   ]
  },
  {
   "cell_type": "code",
   "execution_count": null,
   "id": "edd31b85",
   "metadata": {},
   "outputs": [],
   "source": [
    "n = int(input(\"Nhập số: \"))\n",
    "s = str(n)\n",
    "ketqua = \"\"\n",
    "dem = 0\n",
    "for i in range(len(s) - 1, -1, -1):\n",
    "    ketqua = s[i] + ketqua\n",
    "    dem += 1\n",
    "    if dem == 3 and i != 0:\n",
    "        ketqua = \".\" + ketqua\n",
    "        dem = 0\n",
    "print(ketqua)\n"
   ]
  },
  {
   "cell_type": "markdown",
   "id": "57334030",
   "metadata": {},
   "source": [
    "W4A34\n",
    "Nhập vào chuỗi a và chuỗi b\n",
    "Hãy xóa chuỗi b trong chuỗi a rồi in lại chuỗi a ra màn hình\n",
    "(không dùng hàm replace"
   ]
  },
  {
   "cell_type": "code",
   "execution_count": null,
   "id": "e46376ee",
   "metadata": {},
   "outputs": [],
   "source": [
    "a = input(\"Chuỗi a: \")\n",
    "b = input(\"Chuỗi b: \")\n",
    "kq = \"\"\n",
    "i = 0\n",
    "while i < len(a):\n",
    "    if a[i:i+len(b)] == b:\n",
    "        i += len(b)\n",
    "    else:\n",
    "        kq += a[i]\n",
    "        i += 1\n",
    "print(kq)\n"
   ]
  }
 ],
 "metadata": {
  "kernelspec": {
   "display_name": "Python 3",
   "language": "python",
   "name": "python3"
  },
  "language_info": {
   "codemirror_mode": {
    "name": "ipython",
    "version": 3
   },
   "file_extension": ".py",
   "mimetype": "text/x-python",
   "name": "python",
   "nbconvert_exporter": "python",
   "pygments_lexer": "ipython3",
   "version": "3.13.7"
  }
 },
 "nbformat": 4,
 "nbformat_minor": 5
}
