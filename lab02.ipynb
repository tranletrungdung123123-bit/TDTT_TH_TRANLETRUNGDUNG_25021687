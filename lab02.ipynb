{
 "cells": [
  {
   "cell_type": "markdown",
   "id": "d551fe1a",
   "metadata": {},
   "source": [
    "BÀI 1"
   ]
  },
  {
   "cell_type": "code",
   "execution_count": null,
   "id": "ded7196c",
   "metadata": {},
   "outputs": [],
   "source": [
    "n = int(input(\"Nhập số nguyên n: \"))\n",
    "ket_qua = n * 2\n",
    "print(\"Số gấp đôi của n là:\", ket_qua)\n"
   ]
  },
  {
   "cell_type": "markdown",
   "id": "1c5cc063",
   "metadata": {},
   "source": [
    "BÀI 2"
   ]
  },
  {
   "cell_type": "code",
   "execution_count": null,
   "id": "699438a7",
   "metadata": {},
   "outputs": [],
   "source": [
    "pi = 3.14\n",
    "a = float(input(\"Nhập chiều rộng a: \"))\n",
    "b = float(input(\"Nhập chiều dài b: \"))\n",
    "\n",
    "dien_tich_dat = a * b\n",
    "r = min(a, b) / 2\n",
    "dien_tich_tron = pi * r * r\n",
    "dien_tich_con_lai = dien_tich_dat - dien_tich_tron\n",
    "\n",
    "print(\"Diện tích còn lại là:\", round(dien_tich_con_lai, 2))"
   ]
  },
  {
   "cell_type": "markdown",
   "id": "c28f3e23",
   "metadata": {},
   "source": [
    "BÀI 3"
   ]
  },
  {
   "cell_type": "code",
   "execution_count": null,
   "id": "c000a7fa",
   "metadata": {},
   "outputs": [],
   "source": [
    "c = input(\"Nhập ký tự: \")\n",
    "\n",
    "if \"a\" <= c <= \"z\":\n",
    "    print(\"Chữ hoa là:\", chr(ord(c) - 32))\n",
    "elif \"A\" <= c <= \"Z\":\n",
    "    print(\"Chữ thường là:\", chr(ord(c) + 32))\n",
    "else:\n",
    "    print(\"Không phải chữ cái\")\n"
   ]
  },
  {
   "cell_type": "markdown",
   "id": "cc80d53b",
   "metadata": {},
   "source": [
    "BÀI 4"
   ]
  },
  {
   "cell_type": "code",
   "execution_count": null,
   "id": "6a074495",
   "metadata": {},
   "outputs": [],
   "source": [
    "c = input(\"Nhập ký tự: \")\n",
    "\n",
    "if (\"a\" <= c <= \"z\") or (\"A\" <= c <= \"Z\"):\n",
    "    print(c, \"là ký tự alphabet\")\n",
    "else:\n",
    "    print(c, \"không phải là ký tự alphabet\")\n"
   ]
  },
  {
   "cell_type": "markdown",
   "id": "4a63ec4b",
   "metadata": {},
   "source": [
    "BÀI 5"
   ]
  },
  {
   "cell_type": "code",
   "execution_count": null,
   "id": "08812389",
   "metadata": {},
   "outputs": [],
   "source": [
    "c = input(\"Nhập chữ cái hoa: \")\n",
    "\n",
    "if c == \"A\":\n",
    "    print(\"Không có chữ cái liền trước a\")\n",
    "else:\n",
    "    chu_thuong = chr(ord(c) + 32)\n",
    "    truoc = chr(ord(chu_thuong) - 1)\n",
    "    print(\"Chữ thường liền trước là:\", truoc)\n"
   ]
  },
  {
   "cell_type": "markdown",
   "id": "aa4543eb",
   "metadata": {},
   "source": [
    "BÀI 6"
   ]
  },
  {
   "cell_type": "code",
   "execution_count": null,
   "id": "92fefe29",
   "metadata": {},
   "outputs": [],
   "source": [
    "a = float(input(\"Nhập cạnh a: \"))\n",
    "b = float(input(\"Nhập cạnh b: \"))\n",
    "c = float(input(\"Nhập cạnh c: \"))\n",
    "\n",
    "if a + b > c and a + c > b and b + c > a:\n",
    "    p = (a + b + c) / 2\n",
    "    s = (p * (p - a) * (p - b) * (p - c)) ** 0.5\n",
    "    print(\"Diện tích tam giác là:\", round(s, 1))\n",
    "else:\n",
    "    print(\"Khong phai 3 canh cua tam giac\")"
   ]
  },
  {
   "cell_type": "markdown",
   "id": "d6e89672",
   "metadata": {},
   "source": [
    "BÀI 7"
   ]
  },
  {
   "cell_type": "code",
   "execution_count": null,
   "id": "f5eb6742",
   "metadata": {},
   "outputs": [],
   "source": [
    "chuoi = input(\"Nhập chuỗi (>=20 ký tự): \")\n",
    "if len(chuoi) >= 20:\n",
    "    print(\"Ký tự thứ 5 là:\", chuoi[4])\n",
    "    print(\"Ký tự thứ 9 là:\", chuoi[8])\n",
    "else:\n",
    "    print(\"Chuỗi quá ngắn, phải có ít nhất 20 ký tự!\")\n"
   ]
  },
  {
   "cell_type": "markdown",
   "id": "ca43c7ce",
   "metadata": {},
   "source": [
    "BÀI 8"
   ]
  },
  {
   "cell_type": "code",
   "execution_count": null,
   "id": "b3df4ecb",
   "metadata": {},
   "outputs": [],
   "source": [
    "ten = input()\n",
    "cu = int(input())\n",
    "moi = int(input())\n",
    "\n",
    "so_dien = moi - cu\n",
    "tien = 0\n",
    "\n",
    "if so_dien <= 50:\n",
    "    tien = so_dien * 1984\n",
    "elif so_dien <= 100:\n",
    "    tien = 50 * 1984 + (so_dien - 50) * 2050\n",
    "elif so_dien <= 200:\n",
    "    tien = 50 * 1984 + 50 * 2050 + (so_dien - 100) * 2380\n",
    "elif so_dien <= 300:\n",
    "    tien = 50 * 1984 + 50 * 2050 + 100 * 2380 + (so_dien - 200) * 2998\n",
    "elif so_dien <= 400:\n",
    "    tien = 50 * 1984 + 50 * 2050 + 100 * 2380 + 100 * 2998 + (so_dien - 300) * 3350\n",
    "else:\n",
    "    tien = 50 * 1984 + 50 * 2050 + 100 * 2380 + 100 * 2998 + 100 * 3350 + (so_dien - 400) * 3460\n",
    "\n",
    "tien = int(tien * 1.08)\n",
    "\n",
    "print(\"Ho va ten:\", ten)\n",
    "print(\"Tien phai tra la:\", tien)\n"
   ]
  }
 ],
 "metadata": {
  "kernelspec": {
   "display_name": "Python 3",
   "language": "python",
   "name": "python3"
  },
  "language_info": {
   "codemirror_mode": {
    "name": "ipython",
    "version": 3
   },
   "file_extension": ".py",
   "mimetype": "text/x-python",
   "name": "python",
   "nbconvert_exporter": "python",
   "pygments_lexer": "ipython3",
   "version": "3.13.7"
  }
 },
 "nbformat": 4,
 "nbformat_minor": 5
}
